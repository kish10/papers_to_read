{
 "cells": [
  {
   "cell_type": "markdown",
   "id": "d76e4c3d",
   "metadata": {},
   "source": [
    "[Paper url](https://espace.curtin.edu.au/bitstream/handle/20.500.11937/18325/226558_153096_final_version_7.pdf?sequence=2)"
   ]
  },
  {
   "cell_type": "code",
   "execution_count": 5,
   "id": "45f07e57",
   "metadata": {},
   "outputs": [],
   "source": [
    "using DifferentialEquations\n",
    "using Plots"
   ]
  },
  {
   "cell_type": "markdown",
   "id": "9114e7a4",
   "metadata": {},
   "source": [
    "# MODELLING AND OPTIMAL CONTROL OF BLOOD GLUCOSE LEVELS IN THE HUMAN BODY\n"
   ]
  },
  {
   "cell_type": "markdown",
   "id": "353cd7dc",
   "metadata": {},
   "source": [
    "Note: \n",
    "- The paper expands on the model developed by Liu and Tang in [Modeling a simplified regulatory system of blood glucose at molecular levels - Liu and Tang (2008)](https://www.sciencedirect.com/science/article/abs/pii/S0022519308000829?via%3Dihub)\n",
    "- The model is optimized to match the experimental data collected by Korach-André et al in [Glucose appearance in the peripheral circulation and liver glucose output in men after a large 13C starch meal (2004)](https://academic.oup.com/ajcn/article/80/4/881/4690391) as closely as possible"
   ]
  },
  {
   "cell_type": "markdown",
   "id": "7334f2b4",
   "metadata": {},
   "source": [
    "## 2. Mathematical model\n",
    "\n",
    "The dynamic model of Liu and Tang is made up of eight state variables\n",
    "\n",
    "```\n",
    "x1 = concentration of plasma glucagon (in moles per liter);\n",
    "x2 = concentration of plasma insulin (in moles per liter);\n",
    "x3 = intracellular concentration of glucagon (in moles per liter);\n",
    "x4 = intracellular concentration of insulin (in moles per liter);\n",
    "x5 = concentration of glucagon receptor (in moles per liter);\n",
    "x6 = concentration of insulin-bound receptor (in moles per liter);\n",
    "x7 = blood concentration of glycogen (in milligrams per liter);\n",
    "x8 = blood concentration of glucose (in milligrams per liter).\n",
    "```"
   ]
  },
  {
   "cell_type": "markdown",
   "id": "78ac4a65",
   "metadata": {},
   "source": [
    "### 2.1 Insulin and glucagon transition subsystem"
   ]
  },
  {
   "cell_type": "markdown",
   "id": "894ecaf4",
   "metadata": {},
   "source": [
    "The model assumes that plasma insulin does not act directly on the glucose\n",
    "metabolism, but instead through remote cellular insulin. The model also assumes\n",
    "that intracellular insulin does not move back to plasma. "
   ]
  },
  {
   "cell_type": "code",
   "execution_count": 2,
   "id": "4d654eae",
   "metadata": {},
   "outputs": [
    {
     "data": {
      "text/plain": [
       "dx2_dt (generic function with 1 method)"
      ]
     },
     "execution_count": 2,
     "metadata": {},
     "output_type": "execute_result"
    }
   ],
   "source": [
    "w1(Gm, b1, a1, x8, C5) = Gm/(1+b1*exp(a1(x8-C5)))\n",
    "w2(Rm, b2, a2, x8, C1) = Rm/(1+b2*exp(a2(C1-x8)))\n",
    "\n",
    "dx1_dt(kp_11, kp_12, x1) = -(kp_11 + kp_12)*x1 + w1\n",
    "dx2_dt(kp_21, kp_22, x1) = -(kp_21 + kp_22)*x2 + w2\n",
    "\n",
    "# Where\n",
    "#  Gm = maximum glucagon infusion rate\n",
    "#  a1, a2, b1, b2, and C5 are positive constants\n",
    "#  kp_i1 is a transition rate, and kp_i2 is a degragation rate\n",
    "\n",
    "# Note: \n",
    "# - w1 & w2, model natural feedback control mechanisms\n",
    "# - The differential equations do actually describe the actual state changes of glucagon  or insulin, \n",
    "#   either the current amount moves transitions into another form (or degrades), or more is created as described by w\n",
    "#    - w1 & w2 do represent an added amount since equation 1/(1 + e^x) assyptotes around 1 & 0, \n",
    "#      so the additional constants modify the shape of this original equation as needed       "
   ]
  },
  {
   "cell_type": "markdown",
   "id": "d2e45002",
   "metadata": {},
   "source": [
    "### 2.2 Insulin and glucagon receptor binding subsystem"
   ]
  },
  {
   "cell_type": "markdown",
   "id": "90f6a217",
   "metadata": {},
   "source": [
    "The model assumes that receptor recycling is a closed subsystem; the synthesis rate of receptors is equal to their degradation rate"
   ]
  },
  {
   "cell_type": "code",
   "execution_count": 4,
   "id": "966e5f66",
   "metadata": {},
   "outputs": [
    {
     "data": {
      "text/plain": [
       "dx6_dt (generic function with 1 method)"
      ]
     },
     "execution_count": 4,
     "metadata": {},
     "output_type": "execute_result"
    }
   ],
   "source": [
    "dx3_dt(ks_11, ks_12, x1, x3, R0_1, V, Vp) = -ks_11*x3*(R0_1 - x5) - ks_12x3 + (kp_11*Vp*x1)/V\n",
    "dx4_dt(ks_21, ks_22, x2, x4, R0_2, V, Vp) = -ks_21*x4*(R0_2 - x6) - ks_22x4 + (kp_21*Vp*x2)/V\n",
    "dx5_dt(ks_11, kr_1, x_3, x_5, R0_1) = -ks_11*x3*(R0_1 - x5) - kr_1*x5\n",
    "dx6_dt(ks_21, kr_2, x_4, x_6, R0_2) = -ks_21*x4*(R0_2 - x6) - kr_2*x6\n",
    "\n",
    "# Where\n",
    "#  - ks_i1 are the hormone-receptor association rates\n",
    "#  - ks_i2 are the degragation rates\n",
    "#  - R0_i are the total concentration of receptors\n",
    "#  - kr_i are inactivation rates\n",
    "#  - Vp is the plasma insulin volume\n",
    "#  - V is the cellular insulin volume"
   ]
  },
  {
   "cell_type": "markdown",
   "id": "20098920",
   "metadata": {},
   "source": [
    "### 2.3. Glucose production and utilization subsystem"
   ]
  },
  {
   "cell_type": "markdown",
   "id": "0e3cde21",
   "metadata": {},
   "source": [
    "Plasma glucose has two sources: hepatic glucose produced by converting glycogen into glucose in the liver and exogenous glucose taken from food. Glucose utilization can be classified into two classes: insulin-independent (by brain and nerve cells) and insulin-dependent (by the muscle and fat cells)"
   ]
  },
  {
   "cell_type": "code",
   "execution_count": 11,
   "id": "4733ba19",
   "metadata": {},
   "outputs": [
    {
     "data": {
      "text/plain": [
       "dx8_dt (generic function with 1 method)"
      ]
     },
     "execution_count": 11,
     "metadata": {},
     "output_type": "execute_result"
    }
   ],
   "source": [
    "f1(Ub, C2, x8) = Ub*(1 - exp(-(x8/C2)))\n",
    "f2(C3, x8) = x8/C3\n",
    "f3(U0, Um, C4, beta, x4) = U0 + (((Um-U0)*x4^beta)/(C4^beta + X4^beta))\n",
    "f4(k1, k2, kgs_m, x5, x6, x8, Vgs_max) = ((k1*x6)/(1 + k2*x5))*((Vgs_max*x8)/(kgs_m + x8))\n",
    "f5(k3, kgp_m, x5, x7, Vgp_max) = (k3*x5)*((Vgp_max*x7)/(kgp_m+x7))\n",
    "\n",
    "dx7_dt(k1, k2, k3, kgs_m, kgp_m, x5, x6, x7, x8, Vgs_max, Vgp_max) = \n",
    "    (\n",
    "        f4(k1, k2, kgs_m, x5, x6, x8, Vgs_max) \n",
    "        - f5(k3, kgp_m, x5, x7, Vgp_max)\n",
    "    )\n",
    "dx8_dt(k1, k2, k3, kgs_m, kgp_m, x5, x6, x7, x8, Vgs_max, Vgp_max, Ub, C2, C3, G) = \n",
    "    (\n",
    "        -f4(k1, k2, kgs_m, x5, x6, x8, Vgs_max) \n",
    "        + f5(k3, kgp_m, x5, x7, Vgp_max) \n",
    "        - f1(Ub, C2, x8) \n",
    "        - f2(C3, X8)*f3(U0, Um, C4, beta, x4) \n",
    "        + G\n",
    "    )\n",
    "\n",
    "# Where\n",
    "#  - k1, k2 and k3 are the feedback control gains\n",
    "#  - Vgp_max is the maximum velocity of glycogen phosphorylase\n",
    "#  - Vgs_max is the maximum velocity of glycogen synthase\n",
    "#  - kgs_m and kgp_m are the Michaelis-Menton constants\n",
    "#  - U0, Ub, Um, C2, C3, C4 and β are positive constants\n",
    "#  - G is the exogenous glucose intake derived from digesting food"
   ]
  },
  {
   "cell_type": "markdown",
   "id": "980dc101",
   "metadata": {},
   "source": [
    "### 2.4. Initial conditions and model constants"
   ]
  },
  {
   "cell_type": "code",
   "execution_count": 12,
   "id": "a85c931a",
   "metadata": {},
   "outputs": [
    {
     "data": {
      "text/plain": [
       "540"
      ]
     },
     "execution_count": 12,
     "metadata": {},
     "output_type": "execute_result"
    }
   ],
   "source": [
    "9*60"
   ]
  },
  {
   "cell_type": "markdown",
   "id": "7a9dc348",
   "metadata": {},
   "source": [
    "Assume system is modeled over 9 hour period so `t \\in [0, 540]` for t in minutes.\n",
    "\n",
    "Initial values of the variables for Liu and Tang are:\n",
    "\n",
    "```\n",
    "x1(0) = 1.4 × 10−11, (16)\n",
    "x2(0) = 1.389 × 10−11, (17)\n",
    "x3(0) = 0, (18)\n",
    "x4(0) = 6.945 × 10−14, (19)\n",
    "x5(0) = 0, (20)\n",
    "x6(0) = 0, (21)\n",
    "x7(0) = 200, (22)\n",
    "x8(0) = 918. (23)\n",
    "```"
   ]
  },
  {
   "cell_type": "code",
   "execution_count": 14,
   "id": "76ed0bd0",
   "metadata": {},
   "outputs": [
    {
     "data": {
      "text/plain": [
       "1"
      ]
     },
     "execution_count": 14,
     "metadata": {},
     "output_type": "execute_result"
    }
   ],
   "source": [
    "# Constants as described by & updated in consultation with Liu and Tang (details in paper)\n",
    "\n",
    "kp_11 = 0.14 # min−1 uncertain\n",
    "kp_21 = 0.14 # min−1 uncertain\n",
    "kp_12 = 0.3 # min−1 well-defined\n",
    "kp_22 = 1/6 # min−1 uncertain\n",
    "ks_11 = 6*10^7 # M−1 min−1 well-defined\n",
    "ks_21 = 6*10^7 # M−1 min−1 well-defined\n",
    "ks_12 = 0.01 # min−1 uncertain\n",
    "ks_22 = 0.01 # min−1 uncertain\n",
    "kr1 = 0.2 # min−1 uncertain\n",
    "kr2 = 0.2 # min−1 uncertain\n",
    "R01 = 9*10^-13 # M well-defined\n",
    "R02 = 3.6114 * 10^(−12) # M well-defined\n",
    "Vgp_max = 80 # mg/l/min uncertain\n",
    "kgp_m = 600 # mg/l well-defined\n",
    "Vgs_max = 3.87 * 10^(−4) # mg/l/min uncertain\n",
    "kgs_m = 67 # mg/l well-defined\n",
    "k1 = 2.76900924 * 10^11 # M−1 well-defined\n",
    "k2 = 1.1111111 * 10^14 # M−1 well-defined\n",
    "k3 = 1.1111111 * 10^12 # M−1 well-defined\n",
    "V = 11 # l uncertain\n",
    "Vp = 3 # l uncertain\n",
    "Ub = 7.2 # mg/l/min uncertain\n",
    "U0 = 4 # mg/l/min uncertain\n",
    "Um = 94 # mg/l/min uncertain\n",
    "Gm = 2.23 * 10^(−10) # M/min uncertain\n",
    "Rm = 4.8615 * 10^(−10) # M/min uncertain\n",
    "C1 = 2000 # mg/l uncertain\n",
    "C2 = 144 # mg/l uncertain\n",
    "C3 = 1000 # mg/l uncertain\n",
    "C4 = 5.556 * 10^(−10) # mg/l uncertain\n",
    "C5 = 1000 # mg/l uncertain\n",
    "beta = 1.77 # - uncertain\n",
    "a1 = 0.005 # (mg/l)−1 uncertain\n",
    "a2 = 1/300 # (mg/l)−1 uncertain\n",
    "b1 = 10 # - uncertain\n",
    "b2 = 1 # - uncertain"
   ]
  },
  {
   "cell_type": "markdown",
   "id": "f7294b91",
   "metadata": {},
   "source": [
    "## 3. Parameter estimation"
   ]
  },
  {
   "cell_type": "code",
   "execution_count": 52,
   "id": "d3fb4392",
   "metadata": {},
   "outputs": [
    {
     "data": {
      "text/plain": [
       "9×2 Matrix{Float64}:\n",
       "   0.0   900.0\n",
       "  60.0  1785.29\n",
       " 120.0  1530.27\n",
       " 150.0  1330.88\n",
       " 180.0  1300.55\n",
       " 240.0  1244.95\n",
       " 380.0  1113.53\n",
       " 420.0  1078.2\n",
       " 540.0   900.72"
      ]
     },
     "execution_count": 52,
     "metadata": {},
     "output_type": "execute_result"
    }
   ],
   "source": [
    "healthy_individual_glucose_measurements = [\n",
    "    [0, 60, 120, 150, 180, 240, 380, 420, 540] [900, 1785.29, 1530.27, 1330.88, 1300.55, 1244.95, 1113.53, 1078.2, 900.72]\n",
    "]"
   ]
  },
  {
   "cell_type": "code",
   "execution_count": 60,
   "id": "db5541c6",
   "metadata": {},
   "outputs": [
    {
     "data": {
      "image/svg+xml": [
       "<?xml version=\"1.0\" encoding=\"utf-8\"?>\n",
       "<svg xmlns=\"http://www.w3.org/2000/svg\" xmlns:xlink=\"http://www.w3.org/1999/xlink\" width=\"600\" height=\"400\" viewBox=\"0 0 2400 1600\">\n",
       "<defs>\n",
       "  <clipPath id=\"clip960\">\n",
       "    <rect x=\"0\" y=\"0\" width=\"2400\" height=\"1600\"/>\n",
       "  </clipPath>\n",
       "</defs>\n",
       "<path clip-path=\"url(#clip960)\" d=\"\n",
       "M0 1600 L2400 1600 L2400 0 L0 0  Z\n",
       "  \" fill=\"#ffffff\" fill-rule=\"evenodd\" fill-opacity=\"1\"/>\n",
       "<defs>\n",
       "  <clipPath id=\"clip961\">\n",
       "    <rect x=\"480\" y=\"0\" width=\"1681\" height=\"1600\"/>\n",
       "  </clipPath>\n",
       "</defs>\n",
       "<path clip-path=\"url(#clip960)\" d=\"\n",
       "M262.551 1423.18 L2352.76 1423.18 L2352.76 47.2441 L262.551 47.2441  Z\n",
       "  \" fill=\"#ffffff\" fill-rule=\"evenodd\" fill-opacity=\"1\"/>\n",
       "<defs>\n",
       "  <clipPath id=\"clip962\">\n",
       "    <rect x=\"262\" y=\"47\" width=\"2091\" height=\"1377\"/>\n",
       "  </clipPath>\n",
       "</defs>\n",
       "<polyline clip-path=\"url(#clip962)\" style=\"stroke:#000000; stroke-linecap:butt; stroke-linejoin:round; stroke-width:2; stroke-opacity:0.1; fill:none\" points=\"\n",
       "  321.708,1423.18 321.708,47.2441 \n",
       "  \"/>\n",
       "<polyline clip-path=\"url(#clip962)\" style=\"stroke:#000000; stroke-linecap:butt; stroke-linejoin:round; stroke-width:2; stroke-opacity:0.1; fill:none\" points=\"\n",
       "  686.873,1423.18 686.873,47.2441 \n",
       "  \"/>\n",
       "<polyline clip-path=\"url(#clip962)\" style=\"stroke:#000000; stroke-linecap:butt; stroke-linejoin:round; stroke-width:2; stroke-opacity:0.1; fill:none\" points=\"\n",
       "  1052.04,1423.18 1052.04,47.2441 \n",
       "  \"/>\n",
       "<polyline clip-path=\"url(#clip962)\" style=\"stroke:#000000; stroke-linecap:butt; stroke-linejoin:round; stroke-width:2; stroke-opacity:0.1; fill:none\" points=\"\n",
       "  1417.2,1423.18 1417.2,47.2441 \n",
       "  \"/>\n",
       "<polyline clip-path=\"url(#clip962)\" style=\"stroke:#000000; stroke-linecap:butt; stroke-linejoin:round; stroke-width:2; stroke-opacity:0.1; fill:none\" points=\"\n",
       "  1782.37,1423.18 1782.37,47.2441 \n",
       "  \"/>\n",
       "<polyline clip-path=\"url(#clip962)\" style=\"stroke:#000000; stroke-linecap:butt; stroke-linejoin:round; stroke-width:2; stroke-opacity:0.1; fill:none\" points=\"\n",
       "  2147.53,1423.18 2147.53,47.2441 \n",
       "  \"/>\n",
       "<polyline clip-path=\"url(#clip960)\" style=\"stroke:#000000; stroke-linecap:butt; stroke-linejoin:round; stroke-width:4; stroke-opacity:1; fill:none\" points=\"\n",
       "  262.551,1423.18 2352.76,1423.18 \n",
       "  \"/>\n",
       "<polyline clip-path=\"url(#clip960)\" style=\"stroke:#000000; stroke-linecap:butt; stroke-linejoin:round; stroke-width:4; stroke-opacity:1; fill:none\" points=\"\n",
       "  321.708,1423.18 321.708,1404.28 \n",
       "  \"/>\n",
       "<polyline clip-path=\"url(#clip960)\" style=\"stroke:#000000; stroke-linecap:butt; stroke-linejoin:round; stroke-width:4; stroke-opacity:1; fill:none\" points=\"\n",
       "  686.873,1423.18 686.873,1404.28 \n",
       "  \"/>\n",
       "<polyline clip-path=\"url(#clip960)\" style=\"stroke:#000000; stroke-linecap:butt; stroke-linejoin:round; stroke-width:4; stroke-opacity:1; fill:none\" points=\"\n",
       "  1052.04,1423.18 1052.04,1404.28 \n",
       "  \"/>\n",
       "<polyline clip-path=\"url(#clip960)\" style=\"stroke:#000000; stroke-linecap:butt; stroke-linejoin:round; stroke-width:4; stroke-opacity:1; fill:none\" points=\"\n",
       "  1417.2,1423.18 1417.2,1404.28 \n",
       "  \"/>\n",
       "<polyline clip-path=\"url(#clip960)\" style=\"stroke:#000000; stroke-linecap:butt; stroke-linejoin:round; stroke-width:4; stroke-opacity:1; fill:none\" points=\"\n",
       "  1782.37,1423.18 1782.37,1404.28 \n",
       "  \"/>\n",
       "<polyline clip-path=\"url(#clip960)\" style=\"stroke:#000000; stroke-linecap:butt; stroke-linejoin:round; stroke-width:4; stroke-opacity:1; fill:none\" points=\"\n",
       "  2147.53,1423.18 2147.53,1404.28 \n",
       "  \"/>\n",
       "<path clip-path=\"url(#clip960)\" d=\"M321.708 1454.1 Q318.097 1454.1 316.268 1457.66 Q314.463 1461.2 314.463 1468.33 Q314.463 1475.44 316.268 1479.01 Q318.097 1482.55 321.708 1482.55 Q325.342 1482.55 327.148 1479.01 Q328.976 1475.44 328.976 1468.33 Q328.976 1461.2 327.148 1457.66 Q325.342 1454.1 321.708 1454.1 M321.708 1450.39 Q327.518 1450.39 330.574 1455 Q333.652 1459.58 333.652 1468.33 Q333.652 1477.06 330.574 1481.67 Q327.518 1486.25 321.708 1486.25 Q315.898 1486.25 312.819 1481.67 Q309.764 1477.06 309.764 1468.33 Q309.764 1459.58 312.819 1455 Q315.898 1450.39 321.708 1450.39 Z\" fill=\"#000000\" fill-rule=\"evenodd\" fill-opacity=\"1\" /><path clip-path=\"url(#clip960)\" d=\"M646.48 1481.64 L654.119 1481.64 L654.119 1455.28 L645.808 1456.95 L645.808 1452.69 L654.072 1451.02 L658.748 1451.02 L658.748 1481.64 L666.387 1481.64 L666.387 1485.58 L646.48 1485.58 L646.48 1481.64 Z\" fill=\"#000000\" fill-rule=\"evenodd\" fill-opacity=\"1\" /><path clip-path=\"url(#clip960)\" d=\"M685.831 1454.1 Q682.22 1454.1 680.392 1457.66 Q678.586 1461.2 678.586 1468.33 Q678.586 1475.44 680.392 1479.01 Q682.22 1482.55 685.831 1482.55 Q689.466 1482.55 691.271 1479.01 Q693.1 1475.44 693.1 1468.33 Q693.1 1461.2 691.271 1457.66 Q689.466 1454.1 685.831 1454.1 M685.831 1450.39 Q691.641 1450.39 694.697 1455 Q697.776 1459.58 697.776 1468.33 Q697.776 1477.06 694.697 1481.67 Q691.641 1486.25 685.831 1486.25 Q680.021 1486.25 676.942 1481.67 Q673.887 1477.06 673.887 1468.33 Q673.887 1459.58 676.942 1455 Q680.021 1450.39 685.831 1450.39 Z\" fill=\"#000000\" fill-rule=\"evenodd\" fill-opacity=\"1\" /><path clip-path=\"url(#clip960)\" d=\"M715.993 1454.1 Q712.382 1454.1 710.553 1457.66 Q708.748 1461.2 708.748 1468.33 Q708.748 1475.44 710.553 1479.01 Q712.382 1482.55 715.993 1482.55 Q719.627 1482.55 721.433 1479.01 Q723.262 1475.44 723.262 1468.33 Q723.262 1461.2 721.433 1457.66 Q719.627 1454.1 715.993 1454.1 M715.993 1450.39 Q721.803 1450.39 724.859 1455 Q727.938 1459.58 727.938 1468.33 Q727.938 1477.06 724.859 1481.67 Q721.803 1486.25 715.993 1486.25 Q710.183 1486.25 707.104 1481.67 Q704.049 1477.06 704.049 1468.33 Q704.049 1459.58 707.104 1455 Q710.183 1450.39 715.993 1450.39 Z\" fill=\"#000000\" fill-rule=\"evenodd\" fill-opacity=\"1\" /><path clip-path=\"url(#clip960)\" d=\"M1015.73 1481.64 L1032.05 1481.64 L1032.05 1485.58 L1010.11 1485.58 L1010.11 1481.64 Q1012.77 1478.89 1017.35 1474.26 Q1021.96 1469.61 1023.14 1468.27 Q1025.38 1465.74 1026.26 1464.01 Q1027.17 1462.25 1027.17 1460.56 Q1027.17 1457.8 1025.22 1456.07 Q1023.3 1454.33 1020.2 1454.33 Q1018 1454.33 1015.55 1455.09 Q1013.11 1455.86 1010.34 1457.41 L1010.34 1452.69 Q1013.16 1451.55 1015.61 1450.97 Q1018.07 1450.39 1020.11 1450.39 Q1025.48 1450.39 1028.67 1453.08 Q1031.86 1455.77 1031.86 1460.26 Q1031.86 1462.39 1031.05 1464.31 Q1030.27 1466.2 1028.16 1468.8 Q1027.58 1469.47 1024.48 1472.69 Q1021.38 1475.88 1015.73 1481.64 Z\" fill=\"#000000\" fill-rule=\"evenodd\" fill-opacity=\"1\" /><path clip-path=\"url(#clip960)\" d=\"M1051.86 1454.1 Q1048.25 1454.1 1046.42 1457.66 Q1044.62 1461.2 1044.62 1468.33 Q1044.62 1475.44 1046.42 1479.01 Q1048.25 1482.55 1051.86 1482.55 Q1055.5 1482.55 1057.3 1479.01 Q1059.13 1475.44 1059.13 1468.33 Q1059.13 1461.2 1057.3 1457.66 Q1055.5 1454.1 1051.86 1454.1 M1051.86 1450.39 Q1057.67 1450.39 1060.73 1455 Q1063.81 1459.58 1063.81 1468.33 Q1063.81 1477.06 1060.73 1481.67 Q1057.67 1486.25 1051.86 1486.25 Q1046.05 1486.25 1042.98 1481.67 Q1039.92 1477.06 1039.92 1468.33 Q1039.92 1459.58 1042.98 1455 Q1046.05 1450.39 1051.86 1450.39 Z\" fill=\"#000000\" fill-rule=\"evenodd\" fill-opacity=\"1\" /><path clip-path=\"url(#clip960)\" d=\"M1082.03 1454.1 Q1078.42 1454.1 1076.59 1457.66 Q1074.78 1461.2 1074.78 1468.33 Q1074.78 1475.44 1076.59 1479.01 Q1078.42 1482.55 1082.03 1482.55 Q1085.66 1482.55 1087.47 1479.01 Q1089.29 1475.44 1089.29 1468.33 Q1089.29 1461.2 1087.47 1457.66 Q1085.66 1454.1 1082.03 1454.1 M1082.03 1450.39 Q1087.84 1450.39 1090.89 1455 Q1093.97 1459.58 1093.97 1468.33 Q1093.97 1477.06 1090.89 1481.67 Q1087.84 1486.25 1082.03 1486.25 Q1076.22 1486.25 1073.14 1481.67 Q1070.08 1477.06 1070.08 1468.33 Q1070.08 1459.58 1073.14 1455 Q1076.22 1450.39 1082.03 1450.39 Z\" fill=\"#000000\" fill-rule=\"evenodd\" fill-opacity=\"1\" /><path clip-path=\"url(#clip960)\" d=\"M1390.96 1466.95 Q1394.32 1467.66 1396.2 1469.93 Q1398.09 1472.2 1398.09 1475.53 Q1398.09 1480.65 1394.58 1483.45 Q1391.06 1486.25 1384.58 1486.25 Q1382.4 1486.25 1380.09 1485.81 Q1377.79 1485.39 1375.34 1484.54 L1375.34 1480.02 Q1377.28 1481.16 1379.6 1481.74 Q1381.91 1482.32 1384.44 1482.32 Q1388.84 1482.32 1391.13 1480.58 Q1393.44 1478.84 1393.44 1475.53 Q1393.44 1472.48 1391.29 1470.77 Q1389.16 1469.03 1385.34 1469.03 L1381.31 1469.03 L1381.31 1465.19 L1385.53 1465.19 Q1388.97 1465.19 1390.8 1463.82 Q1392.63 1462.43 1392.63 1459.84 Q1392.63 1457.18 1390.73 1455.77 Q1388.86 1454.33 1385.34 1454.33 Q1383.42 1454.33 1381.22 1454.75 Q1379.02 1455.16 1376.38 1456.04 L1376.38 1451.88 Q1379.04 1451.14 1381.36 1450.77 Q1383.7 1450.39 1385.76 1450.39 Q1391.08 1450.39 1394.18 1452.83 Q1397.28 1455.23 1397.28 1459.35 Q1397.28 1462.22 1395.64 1464.21 Q1394 1466.18 1390.96 1466.95 Z\" fill=\"#000000\" fill-rule=\"evenodd\" fill-opacity=\"1\" /><path clip-path=\"url(#clip960)\" d=\"M1416.96 1454.1 Q1413.35 1454.1 1411.52 1457.66 Q1409.71 1461.2 1409.71 1468.33 Q1409.71 1475.44 1411.52 1479.01 Q1413.35 1482.55 1416.96 1482.55 Q1420.59 1482.55 1422.4 1479.01 Q1424.23 1475.44 1424.23 1468.33 Q1424.23 1461.2 1422.4 1457.66 Q1420.59 1454.1 1416.96 1454.1 M1416.96 1450.39 Q1422.77 1450.39 1425.83 1455 Q1428.9 1459.58 1428.9 1468.33 Q1428.9 1477.06 1425.83 1481.67 Q1422.77 1486.25 1416.96 1486.25 Q1411.15 1486.25 1408.07 1481.67 Q1405.02 1477.06 1405.02 1468.33 Q1405.02 1459.58 1408.07 1455 Q1411.15 1450.39 1416.96 1450.39 Z\" fill=\"#000000\" fill-rule=\"evenodd\" fill-opacity=\"1\" /><path clip-path=\"url(#clip960)\" d=\"M1447.12 1454.1 Q1443.51 1454.1 1441.68 1457.66 Q1439.88 1461.2 1439.88 1468.33 Q1439.88 1475.44 1441.68 1479.01 Q1443.51 1482.55 1447.12 1482.55 Q1450.76 1482.55 1452.56 1479.01 Q1454.39 1475.44 1454.39 1468.33 Q1454.39 1461.2 1452.56 1457.66 Q1450.76 1454.1 1447.12 1454.1 M1447.12 1450.39 Q1452.93 1450.39 1455.99 1455 Q1459.07 1459.58 1459.07 1468.33 Q1459.07 1477.06 1455.99 1481.67 Q1452.93 1486.25 1447.12 1486.25 Q1441.31 1486.25 1438.23 1481.67 Q1435.18 1477.06 1435.18 1468.33 Q1435.18 1459.58 1438.23 1455 Q1441.31 1450.39 1447.12 1450.39 Z\" fill=\"#000000\" fill-rule=\"evenodd\" fill-opacity=\"1\" /><path clip-path=\"url(#clip960)\" d=\"M1755.46 1455.09 L1743.65 1473.54 L1755.46 1473.54 L1755.46 1455.09 M1754.23 1451.02 L1760.11 1451.02 L1760.11 1473.54 L1765.04 1473.54 L1765.04 1477.43 L1760.11 1477.43 L1760.11 1485.58 L1755.46 1485.58 L1755.46 1477.43 L1739.86 1477.43 L1739.86 1472.92 L1754.23 1451.02 Z\" fill=\"#000000\" fill-rule=\"evenodd\" fill-opacity=\"1\" /><path clip-path=\"url(#clip960)\" d=\"M1782.77 1454.1 Q1779.16 1454.1 1777.33 1457.66 Q1775.53 1461.2 1775.53 1468.33 Q1775.53 1475.44 1777.33 1479.01 Q1779.16 1482.55 1782.77 1482.55 Q1786.41 1482.55 1788.21 1479.01 Q1790.04 1475.44 1790.04 1468.33 Q1790.04 1461.2 1788.21 1457.66 Q1786.41 1454.1 1782.77 1454.1 M1782.77 1450.39 Q1788.58 1450.39 1791.64 1455 Q1794.72 1459.58 1794.72 1468.33 Q1794.72 1477.06 1791.64 1481.67 Q1788.58 1486.25 1782.77 1486.25 Q1776.96 1486.25 1773.88 1481.67 Q1770.83 1477.06 1770.83 1468.33 Q1770.83 1459.58 1773.88 1455 Q1776.96 1450.39 1782.77 1450.39 Z\" fill=\"#000000\" fill-rule=\"evenodd\" fill-opacity=\"1\" /><path clip-path=\"url(#clip960)\" d=\"M1812.94 1454.1 Q1809.32 1454.1 1807.5 1457.66 Q1805.69 1461.2 1805.69 1468.33 Q1805.69 1475.44 1807.5 1479.01 Q1809.32 1482.55 1812.94 1482.55 Q1816.57 1482.55 1818.37 1479.01 Q1820.2 1475.44 1820.2 1468.33 Q1820.2 1461.2 1818.37 1457.66 Q1816.57 1454.1 1812.94 1454.1 M1812.94 1450.39 Q1818.75 1450.39 1821.8 1455 Q1824.88 1459.58 1824.88 1468.33 Q1824.88 1477.06 1821.8 1481.67 Q1818.75 1486.25 1812.94 1486.25 Q1807.12 1486.25 1804.05 1481.67 Q1800.99 1477.06 1800.99 1468.33 Q1800.99 1459.58 1804.05 1455 Q1807.12 1450.39 1812.94 1450.39 Z\" fill=\"#000000\" fill-rule=\"evenodd\" fill-opacity=\"1\" /><path clip-path=\"url(#clip960)\" d=\"M2107.15 1451.02 L2125.51 1451.02 L2125.51 1454.96 L2111.43 1454.96 L2111.43 1463.43 Q2112.45 1463.08 2113.47 1462.92 Q2114.49 1462.73 2115.51 1462.73 Q2121.29 1462.73 2124.67 1465.9 Q2128.05 1469.08 2128.05 1474.49 Q2128.05 1480.07 2124.58 1483.17 Q2121.11 1486.25 2114.79 1486.25 Q2112.61 1486.25 2110.35 1485.88 Q2108.1 1485.51 2105.69 1484.77 L2105.69 1480.07 Q2107.78 1481.2 2110 1481.76 Q2112.22 1482.32 2114.7 1482.32 Q2118.7 1482.32 2121.04 1480.21 Q2123.38 1478.1 2123.38 1474.49 Q2123.38 1470.88 2121.04 1468.77 Q2118.7 1466.67 2114.7 1466.67 Q2112.82 1466.67 2110.95 1467.08 Q2109.1 1467.5 2107.15 1468.38 L2107.15 1451.02 Z\" fill=\"#000000\" fill-rule=\"evenodd\" fill-opacity=\"1\" /><path clip-path=\"url(#clip960)\" d=\"M2147.27 1454.1 Q2143.66 1454.1 2141.83 1457.66 Q2140.02 1461.2 2140.02 1468.33 Q2140.02 1475.44 2141.83 1479.01 Q2143.66 1482.55 2147.27 1482.55 Q2150.9 1482.55 2152.71 1479.01 Q2154.54 1475.44 2154.54 1468.33 Q2154.54 1461.2 2152.71 1457.66 Q2150.9 1454.1 2147.27 1454.1 M2147.27 1450.39 Q2153.08 1450.39 2156.13 1455 Q2159.21 1459.58 2159.21 1468.33 Q2159.21 1477.06 2156.13 1481.67 Q2153.08 1486.25 2147.27 1486.25 Q2141.46 1486.25 2138.38 1481.67 Q2135.32 1477.06 2135.32 1468.33 Q2135.32 1459.58 2138.38 1455 Q2141.46 1450.39 2147.27 1450.39 Z\" fill=\"#000000\" fill-rule=\"evenodd\" fill-opacity=\"1\" /><path clip-path=\"url(#clip960)\" d=\"M2177.43 1454.1 Q2173.82 1454.1 2171.99 1457.66 Q2170.18 1461.2 2170.18 1468.33 Q2170.18 1475.44 2171.99 1479.01 Q2173.82 1482.55 2177.43 1482.55 Q2181.06 1482.55 2182.87 1479.01 Q2184.7 1475.44 2184.7 1468.33 Q2184.7 1461.2 2182.87 1457.66 Q2181.06 1454.1 2177.43 1454.1 M2177.43 1450.39 Q2183.24 1450.39 2186.29 1455 Q2189.37 1459.58 2189.37 1468.33 Q2189.37 1477.06 2186.29 1481.67 Q2183.24 1486.25 2177.43 1486.25 Q2171.62 1486.25 2168.54 1481.67 Q2165.48 1477.06 2165.48 1468.33 Q2165.48 1459.58 2168.54 1455 Q2171.62 1450.39 2177.43 1450.39 Z\" fill=\"#000000\" fill-rule=\"evenodd\" fill-opacity=\"1\" /><path clip-path=\"url(#clip960)\" d=\"M1306.71 1522.27 L1306.71 1532.4 L1318.78 1532.4 L1318.78 1536.95 L1306.71 1536.95 L1306.71 1556.3 Q1306.71 1560.66 1307.89 1561.9 Q1309.1 1563.14 1312.76 1563.14 L1318.78 1563.14 L1318.78 1568.04 L1312.76 1568.04 Q1305.98 1568.04 1303.4 1565.53 Q1300.83 1562.98 1300.83 1556.3 L1300.83 1536.95 L1296.53 1536.95 L1296.53 1532.4 L1300.83 1532.4 L1300.83 1522.27 L1306.71 1522.27 Z\" fill=\"#000000\" fill-rule=\"evenodd\" fill-opacity=\"1\" /><polyline clip-path=\"url(#clip962)\" style=\"stroke:#000000; stroke-linecap:butt; stroke-linejoin:round; stroke-width:2; stroke-opacity:0.1; fill:none\" points=\"\n",
       "  262.551,1237.61 2352.76,1237.61 \n",
       "  \"/>\n",
       "<polyline clip-path=\"url(#clip962)\" style=\"stroke:#000000; stroke-linecap:butt; stroke-linejoin:round; stroke-width:2; stroke-opacity:0.1; fill:none\" points=\"\n",
       "  262.551,944.365 2352.76,944.365 \n",
       "  \"/>\n",
       "<polyline clip-path=\"url(#clip962)\" style=\"stroke:#000000; stroke-linecap:butt; stroke-linejoin:round; stroke-width:2; stroke-opacity:0.1; fill:none\" points=\"\n",
       "  262.551,651.115 2352.76,651.115 \n",
       "  \"/>\n",
       "<polyline clip-path=\"url(#clip962)\" style=\"stroke:#000000; stroke-linecap:butt; stroke-linejoin:round; stroke-width:2; stroke-opacity:0.1; fill:none\" points=\"\n",
       "  262.551,357.866 2352.76,357.866 \n",
       "  \"/>\n",
       "<polyline clip-path=\"url(#clip962)\" style=\"stroke:#000000; stroke-linecap:butt; stroke-linejoin:round; stroke-width:2; stroke-opacity:0.1; fill:none\" points=\"\n",
       "  262.551,64.6172 2352.76,64.6172 \n",
       "  \"/>\n",
       "<polyline clip-path=\"url(#clip960)\" style=\"stroke:#000000; stroke-linecap:butt; stroke-linejoin:round; stroke-width:4; stroke-opacity:1; fill:none\" points=\"\n",
       "  262.551,1423.18 262.551,47.2441 \n",
       "  \"/>\n",
       "<polyline clip-path=\"url(#clip960)\" style=\"stroke:#000000; stroke-linecap:butt; stroke-linejoin:round; stroke-width:4; stroke-opacity:1; fill:none\" points=\"\n",
       "  262.551,1237.61 281.449,1237.61 \n",
       "  \"/>\n",
       "<polyline clip-path=\"url(#clip960)\" style=\"stroke:#000000; stroke-linecap:butt; stroke-linejoin:round; stroke-width:4; stroke-opacity:1; fill:none\" points=\"\n",
       "  262.551,944.365 281.449,944.365 \n",
       "  \"/>\n",
       "<polyline clip-path=\"url(#clip960)\" style=\"stroke:#000000; stroke-linecap:butt; stroke-linejoin:round; stroke-width:4; stroke-opacity:1; fill:none\" points=\"\n",
       "  262.551,651.115 281.449,651.115 \n",
       "  \"/>\n",
       "<polyline clip-path=\"url(#clip960)\" style=\"stroke:#000000; stroke-linecap:butt; stroke-linejoin:round; stroke-width:4; stroke-opacity:1; fill:none\" points=\"\n",
       "  262.551,357.866 281.449,357.866 \n",
       "  \"/>\n",
       "<polyline clip-path=\"url(#clip960)\" style=\"stroke:#000000; stroke-linecap:butt; stroke-linejoin:round; stroke-width:4; stroke-opacity:1; fill:none\" points=\"\n",
       "  262.551,64.6172 281.449,64.6172 \n",
       "  \"/>\n",
       "<path clip-path=\"url(#clip960)\" d=\"M114.931 1250.96 L122.57 1250.96 L122.57 1224.59 L114.26 1226.26 L114.26 1222 L122.524 1220.33 L127.2 1220.33 L127.2 1250.96 L134.839 1250.96 L134.839 1254.89 L114.931 1254.89 L114.931 1250.96 Z\" fill=\"#000000\" fill-rule=\"evenodd\" fill-opacity=\"1\" /><path clip-path=\"url(#clip960)\" d=\"M154.283 1223.41 Q150.672 1223.41 148.843 1226.98 Q147.038 1230.52 147.038 1237.65 Q147.038 1244.75 148.843 1248.32 Q150.672 1251.86 154.283 1251.86 Q157.917 1251.86 159.723 1248.32 Q161.552 1244.75 161.552 1237.65 Q161.552 1230.52 159.723 1226.98 Q157.917 1223.41 154.283 1223.41 M154.283 1219.71 Q160.093 1219.71 163.149 1224.32 Q166.227 1228.9 166.227 1237.65 Q166.227 1246.38 163.149 1250.98 Q160.093 1255.56 154.283 1255.56 Q148.473 1255.56 145.394 1250.98 Q142.339 1246.38 142.339 1237.65 Q142.339 1228.9 145.394 1224.32 Q148.473 1219.71 154.283 1219.71 Z\" fill=\"#000000\" fill-rule=\"evenodd\" fill-opacity=\"1\" /><path clip-path=\"url(#clip960)\" d=\"M184.445 1223.41 Q180.834 1223.41 179.005 1226.98 Q177.2 1230.52 177.2 1237.65 Q177.2 1244.75 179.005 1248.32 Q180.834 1251.86 184.445 1251.86 Q188.079 1251.86 189.885 1248.32 Q191.713 1244.75 191.713 1237.65 Q191.713 1230.52 189.885 1226.98 Q188.079 1223.41 184.445 1223.41 M184.445 1219.71 Q190.255 1219.71 193.311 1224.32 Q196.389 1228.9 196.389 1237.65 Q196.389 1246.38 193.311 1250.98 Q190.255 1255.56 184.445 1255.56 Q178.635 1255.56 175.556 1250.98 Q172.501 1246.38 172.501 1237.65 Q172.501 1228.9 175.556 1224.32 Q178.635 1219.71 184.445 1219.71 Z\" fill=\"#000000\" fill-rule=\"evenodd\" fill-opacity=\"1\" /><path clip-path=\"url(#clip960)\" d=\"M214.607 1223.41 Q210.996 1223.41 209.167 1226.98 Q207.362 1230.52 207.362 1237.65 Q207.362 1244.75 209.167 1248.32 Q210.996 1251.86 214.607 1251.86 Q218.241 1251.86 220.047 1248.32 Q221.875 1244.75 221.875 1237.65 Q221.875 1230.52 220.047 1226.98 Q218.241 1223.41 214.607 1223.41 M214.607 1219.71 Q220.417 1219.71 223.473 1224.32 Q226.551 1228.9 226.551 1237.65 Q226.551 1246.38 223.473 1250.98 Q220.417 1255.56 214.607 1255.56 Q208.797 1255.56 205.718 1250.98 Q202.662 1246.38 202.662 1237.65 Q202.662 1228.9 205.718 1224.32 Q208.797 1219.71 214.607 1219.71 Z\" fill=\"#000000\" fill-rule=\"evenodd\" fill-opacity=\"1\" /><path clip-path=\"url(#clip960)\" d=\"M114.931 957.709 L122.57 957.709 L122.57 931.344 L114.26 933.01 L114.26 928.751 L122.524 927.085 L127.2 927.085 L127.2 957.709 L134.839 957.709 L134.839 961.645 L114.931 961.645 L114.931 957.709 Z\" fill=\"#000000\" fill-rule=\"evenodd\" fill-opacity=\"1\" /><path clip-path=\"url(#clip960)\" d=\"M148.311 957.709 L164.63 957.709 L164.63 961.645 L142.686 961.645 L142.686 957.709 Q145.348 954.955 149.931 950.325 Q154.538 945.672 155.718 944.33 Q157.964 941.807 158.843 940.071 Q159.746 938.311 159.746 936.622 Q159.746 933.867 157.802 932.131 Q155.88 930.395 152.778 930.395 Q150.579 930.395 148.126 931.159 Q145.695 931.923 142.917 933.473 L142.917 928.751 Q145.741 927.617 148.195 927.038 Q150.649 926.46 152.686 926.46 Q158.056 926.46 161.251 929.145 Q164.445 931.83 164.445 936.321 Q164.445 938.45 163.635 940.372 Q162.848 942.27 160.741 944.862 Q160.163 945.534 157.061 948.751 Q153.959 951.946 148.311 957.709 Z\" fill=\"#000000\" fill-rule=\"evenodd\" fill-opacity=\"1\" /><path clip-path=\"url(#clip960)\" d=\"M184.445 930.163 Q180.834 930.163 179.005 933.728 Q177.2 937.27 177.2 944.399 Q177.2 951.506 179.005 955.071 Q180.834 958.612 184.445 958.612 Q188.079 958.612 189.885 955.071 Q191.713 951.506 191.713 944.399 Q191.713 937.27 189.885 933.728 Q188.079 930.163 184.445 930.163 M184.445 926.46 Q190.255 926.46 193.311 931.066 Q196.389 935.649 196.389 944.399 Q196.389 953.126 193.311 957.733 Q190.255 962.316 184.445 962.316 Q178.635 962.316 175.556 957.733 Q172.501 953.126 172.501 944.399 Q172.501 935.649 175.556 931.066 Q178.635 926.46 184.445 926.46 Z\" fill=\"#000000\" fill-rule=\"evenodd\" fill-opacity=\"1\" /><path clip-path=\"url(#clip960)\" d=\"M214.607 930.163 Q210.996 930.163 209.167 933.728 Q207.362 937.27 207.362 944.399 Q207.362 951.506 209.167 955.071 Q210.996 958.612 214.607 958.612 Q218.241 958.612 220.047 955.071 Q221.875 951.506 221.875 944.399 Q221.875 937.27 220.047 933.728 Q218.241 930.163 214.607 930.163 M214.607 926.46 Q220.417 926.46 223.473 931.066 Q226.551 935.649 226.551 944.399 Q226.551 953.126 223.473 957.733 Q220.417 962.316 214.607 962.316 Q208.797 962.316 205.718 957.733 Q202.662 953.126 202.662 944.399 Q202.662 935.649 205.718 931.066 Q208.797 926.46 214.607 926.46 Z\" fill=\"#000000\" fill-rule=\"evenodd\" fill-opacity=\"1\" /><path clip-path=\"url(#clip960)\" d=\"M114.931 664.46 L122.57 664.46 L122.57 638.095 L114.26 639.761 L114.26 635.502 L122.524 633.835 L127.2 633.835 L127.2 664.46 L134.839 664.46 L134.839 668.395 L114.931 668.395 L114.931 664.46 Z\" fill=\"#000000\" fill-rule=\"evenodd\" fill-opacity=\"1\" /><path clip-path=\"url(#clip960)\" d=\"M157.13 637.91 L145.325 656.358 L157.13 656.358 L157.13 637.91 M155.903 633.835 L161.783 633.835 L161.783 656.358 L166.714 656.358 L166.714 660.247 L161.783 660.247 L161.783 668.395 L157.13 668.395 L157.13 660.247 L141.529 660.247 L141.529 655.733 L155.903 633.835 Z\" fill=\"#000000\" fill-rule=\"evenodd\" fill-opacity=\"1\" /><path clip-path=\"url(#clip960)\" d=\"M184.445 636.914 Q180.834 636.914 179.005 640.479 Q177.2 644.021 177.2 651.15 Q177.2 658.257 179.005 661.821 Q180.834 665.363 184.445 665.363 Q188.079 665.363 189.885 661.821 Q191.713 658.257 191.713 651.15 Q191.713 644.021 189.885 640.479 Q188.079 636.914 184.445 636.914 M184.445 633.21 Q190.255 633.21 193.311 637.817 Q196.389 642.4 196.389 651.15 Q196.389 659.877 193.311 664.483 Q190.255 669.067 184.445 669.067 Q178.635 669.067 175.556 664.483 Q172.501 659.877 172.501 651.15 Q172.501 642.4 175.556 637.817 Q178.635 633.21 184.445 633.21 Z\" fill=\"#000000\" fill-rule=\"evenodd\" fill-opacity=\"1\" /><path clip-path=\"url(#clip960)\" d=\"M214.607 636.914 Q210.996 636.914 209.167 640.479 Q207.362 644.021 207.362 651.15 Q207.362 658.257 209.167 661.821 Q210.996 665.363 214.607 665.363 Q218.241 665.363 220.047 661.821 Q221.875 658.257 221.875 651.15 Q221.875 644.021 220.047 640.479 Q218.241 636.914 214.607 636.914 M214.607 633.21 Q220.417 633.21 223.473 637.817 Q226.551 642.4 226.551 651.15 Q226.551 659.877 223.473 664.483 Q220.417 669.067 214.607 669.067 Q208.797 669.067 205.718 664.483 Q202.662 659.877 202.662 651.15 Q202.662 642.4 205.718 637.817 Q208.797 633.21 214.607 633.21 Z\" fill=\"#000000\" fill-rule=\"evenodd\" fill-opacity=\"1\" /><path clip-path=\"url(#clip960)\" d=\"M114.931 371.211 L122.57 371.211 L122.57 344.846 L114.26 346.512 L114.26 342.253 L122.524 340.586 L127.2 340.586 L127.2 371.211 L134.839 371.211 L134.839 375.146 L114.931 375.146 L114.931 371.211 Z\" fill=\"#000000\" fill-rule=\"evenodd\" fill-opacity=\"1\" /><path clip-path=\"url(#clip960)\" d=\"M154.862 356.003 Q151.714 356.003 149.862 358.156 Q148.033 360.308 148.033 364.058 Q148.033 367.785 149.862 369.961 Q151.714 372.114 154.862 372.114 Q158.01 372.114 159.839 369.961 Q161.69 367.785 161.69 364.058 Q161.69 360.308 159.839 358.156 Q158.01 356.003 154.862 356.003 M164.144 341.35 L164.144 345.609 Q162.385 344.776 160.579 344.336 Q158.797 343.896 157.038 343.896 Q152.408 343.896 149.954 347.021 Q147.524 350.146 147.177 356.466 Q148.542 354.452 150.603 353.387 Q152.663 352.299 155.14 352.299 Q160.348 352.299 163.357 355.471 Q166.39 358.619 166.39 364.058 Q166.39 369.382 163.241 372.6 Q160.093 375.818 154.862 375.818 Q148.866 375.818 145.695 371.234 Q142.524 366.628 142.524 357.901 Q142.524 349.707 146.413 344.846 Q150.302 339.961 156.853 339.961 Q158.612 339.961 160.394 340.309 Q162.2 340.656 164.144 341.35 Z\" fill=\"#000000\" fill-rule=\"evenodd\" fill-opacity=\"1\" /><path clip-path=\"url(#clip960)\" d=\"M184.445 343.665 Q180.834 343.665 179.005 347.23 Q177.2 350.771 177.2 357.901 Q177.2 365.007 179.005 368.572 Q180.834 372.114 184.445 372.114 Q188.079 372.114 189.885 368.572 Q191.713 365.007 191.713 357.901 Q191.713 350.771 189.885 347.23 Q188.079 343.665 184.445 343.665 M184.445 339.961 Q190.255 339.961 193.311 344.568 Q196.389 349.151 196.389 357.901 Q196.389 366.628 193.311 371.234 Q190.255 375.818 184.445 375.818 Q178.635 375.818 175.556 371.234 Q172.501 366.628 172.501 357.901 Q172.501 349.151 175.556 344.568 Q178.635 339.961 184.445 339.961 Z\" fill=\"#000000\" fill-rule=\"evenodd\" fill-opacity=\"1\" /><path clip-path=\"url(#clip960)\" d=\"M214.607 343.665 Q210.996 343.665 209.167 347.23 Q207.362 350.771 207.362 357.901 Q207.362 365.007 209.167 368.572 Q210.996 372.114 214.607 372.114 Q218.241 372.114 220.047 368.572 Q221.875 365.007 221.875 357.901 Q221.875 350.771 220.047 347.23 Q218.241 343.665 214.607 343.665 M214.607 339.961 Q220.417 339.961 223.473 344.568 Q226.551 349.151 226.551 357.901 Q226.551 366.628 223.473 371.234 Q220.417 375.818 214.607 375.818 Q208.797 375.818 205.718 371.234 Q202.662 366.628 202.662 357.901 Q202.662 349.151 205.718 344.568 Q208.797 339.961 214.607 339.961 Z\" fill=\"#000000\" fill-rule=\"evenodd\" fill-opacity=\"1\" /><path clip-path=\"url(#clip960)\" d=\"M114.931 77.962 L122.57 77.962 L122.57 51.5964 L114.26 53.2631 L114.26 49.0039 L122.524 47.3372 L127.2 47.3372 L127.2 77.962 L134.839 77.962 L134.839 81.8972 L114.931 81.8972 L114.931 77.962 Z\" fill=\"#000000\" fill-rule=\"evenodd\" fill-opacity=\"1\" /><path clip-path=\"url(#clip960)\" d=\"M154.283 65.4852 Q150.95 65.4852 149.028 67.2676 Q147.13 69.05 147.13 72.175 Q147.13 75.3 149.028 77.0824 Q150.95 78.8648 154.283 78.8648 Q157.616 78.8648 159.538 77.0824 Q161.459 75.2769 161.459 72.175 Q161.459 69.05 159.538 67.2676 Q157.64 65.4852 154.283 65.4852 M149.607 63.4945 Q146.598 62.7538 144.908 60.6936 Q143.241 58.6334 143.241 55.6705 Q143.241 51.527 146.181 49.1196 Q149.144 46.7122 154.283 46.7122 Q159.445 46.7122 162.385 49.1196 Q165.325 51.527 165.325 55.6705 Q165.325 58.6334 163.635 60.6936 Q161.968 62.7538 158.982 63.4945 Q162.362 64.2816 164.237 66.5732 Q166.135 68.8649 166.135 72.175 Q166.135 77.1982 163.056 79.8833 Q160.001 82.5685 154.283 82.5685 Q148.566 82.5685 145.487 79.8833 Q142.431 77.1982 142.431 72.175 Q142.431 68.8649 144.329 66.5732 Q146.228 64.2816 149.607 63.4945 M147.894 56.1103 Q147.894 58.7955 149.561 60.3001 Q151.251 61.8047 154.283 61.8047 Q157.292 61.8047 158.982 60.3001 Q160.695 58.7955 160.695 56.1103 Q160.695 53.4251 158.982 51.9205 Q157.292 50.4159 154.283 50.4159 Q151.251 50.4159 149.561 51.9205 Q147.894 53.4251 147.894 56.1103 Z\" fill=\"#000000\" fill-rule=\"evenodd\" fill-opacity=\"1\" /><path clip-path=\"url(#clip960)\" d=\"M184.445 50.4159 Q180.834 50.4159 179.005 53.9807 Q177.2 57.5223 177.2 64.6519 Q177.2 71.7584 179.005 75.3232 Q180.834 78.8648 184.445 78.8648 Q188.079 78.8648 189.885 75.3232 Q191.713 71.7584 191.713 64.6519 Q191.713 57.5223 189.885 53.9807 Q188.079 50.4159 184.445 50.4159 M184.445 46.7122 Q190.255 46.7122 193.311 51.3187 Q196.389 55.902 196.389 64.6519 Q196.389 73.3787 193.311 77.9852 Q190.255 82.5685 184.445 82.5685 Q178.635 82.5685 175.556 77.9852 Q172.501 73.3787 172.501 64.6519 Q172.501 55.902 175.556 51.3187 Q178.635 46.7122 184.445 46.7122 Z\" fill=\"#000000\" fill-rule=\"evenodd\" fill-opacity=\"1\" /><path clip-path=\"url(#clip960)\" d=\"M214.607 50.4159 Q210.996 50.4159 209.167 53.9807 Q207.362 57.5223 207.362 64.6519 Q207.362 71.7584 209.167 75.3232 Q210.996 78.8648 214.607 78.8648 Q218.241 78.8648 220.047 75.3232 Q221.875 71.7584 221.875 64.6519 Q221.875 57.5223 220.047 53.9807 Q218.241 50.4159 214.607 50.4159 M214.607 46.7122 Q220.417 46.7122 223.473 51.3187 Q226.551 55.902 226.551 64.6519 Q226.551 73.3787 223.473 77.9852 Q220.417 82.5685 214.607 82.5685 Q208.797 82.5685 205.718 77.9852 Q202.662 73.3787 202.662 64.6519 Q202.662 55.902 205.718 51.3187 Q208.797 46.7122 214.607 46.7122 Z\" fill=\"#000000\" fill-rule=\"evenodd\" fill-opacity=\"1\" /><path clip-path=\"url(#clip960)\" d=\"M41.3104 1159.65 L58.7206 1159.65 L58.7206 1149.33 Q58.7206 1144.14 56.5881 1141.66 Q54.4238 1139.15 49.9996 1139.15 Q45.5436 1139.15 43.4429 1141.66 Q41.3104 1144.14 41.3104 1149.33 L41.3104 1159.65 M21.7677 1159.65 L36.0905 1159.65 L36.0905 1150.13 Q36.0905 1145.42 34.34 1143.13 Q32.5576 1140.8 28.9291 1140.8 Q25.3325 1140.8 23.5501 1143.13 Q21.7677 1145.42 21.7677 1150.13 L21.7677 1159.65 M16.4842 1166.07 L16.4842 1149.65 Q16.4842 1142.3 19.5397 1138.32 Q22.5952 1134.34 28.2289 1134.34 Q32.5894 1134.34 35.1675 1136.38 Q37.7456 1138.42 38.3822 1142.36 Q39.4007 1137.62 42.6472 1135.01 Q45.8619 1132.37 50.6998 1132.37 Q57.0655 1132.37 60.5348 1136.7 Q64.0042 1141.03 64.0042 1149.01 L64.0042 1166.07 L16.4842 1166.07 Z\" fill=\"#000000\" fill-rule=\"evenodd\" fill-opacity=\"1\" /><path clip-path=\"url(#clip960)\" d=\"M14.479 1121.61 L14.479 1115.75 L64.0042 1115.75 L64.0042 1121.61 L14.479 1121.61 Z\" fill=\"#000000\" fill-rule=\"evenodd\" fill-opacity=\"1\" /><path clip-path=\"url(#clip960)\" d=\"M32.4621 1089.69 Q32.4621 1094.4 36.1542 1097.13 Q39.8145 1099.87 46.212 1099.87 Q52.6095 1099.87 56.3017 1097.17 Q59.9619 1094.43 59.9619 1089.69 Q59.9619 1085.01 56.2698 1082.27 Q52.5777 1079.53 46.212 1079.53 Q39.8781 1079.53 36.186 1082.27 Q32.4621 1085.01 32.4621 1089.69 M27.4968 1089.69 Q27.4968 1082.05 32.4621 1077.69 Q37.4273 1073.33 46.212 1073.33 Q54.9649 1073.33 59.9619 1077.69 Q64.9272 1082.05 64.9272 1089.69 Q64.9272 1097.36 59.9619 1101.72 Q54.9649 1106.05 46.212 1106.05 Q37.4273 1106.05 32.4621 1101.72 Q27.4968 1097.36 27.4968 1089.69 Z\" fill=\"#000000\" fill-rule=\"evenodd\" fill-opacity=\"1\" /><path clip-path=\"url(#clip960)\" d=\"M32.4621 1049.81 Q32.4621 1054.52 36.1542 1057.25 Q39.8145 1059.99 46.212 1059.99 Q52.6095 1059.99 56.3017 1057.28 Q59.9619 1054.55 59.9619 1049.81 Q59.9619 1045.13 56.2698 1042.39 Q52.5777 1039.65 46.212 1039.65 Q39.8781 1039.65 36.186 1042.39 Q32.4621 1045.13 32.4621 1049.81 M27.4968 1049.81 Q27.4968 1042.17 32.4621 1037.81 Q37.4273 1033.45 46.212 1033.45 Q54.9649 1033.45 59.9619 1037.81 Q64.9272 1042.17 64.9272 1049.81 Q64.9272 1057.48 59.9619 1061.84 Q54.9649 1066.17 46.212 1066.17 Q37.4273 1066.17 32.4621 1061.84 Q27.4968 1057.48 27.4968 1049.81 Z\" fill=\"#000000\" fill-rule=\"evenodd\" fill-opacity=\"1\" /><path clip-path=\"url(#clip960)\" d=\"M33.7671 1000.28 L14.479 1000.28 L14.479 994.424 L64.0042 994.424 L64.0042 1000.28 L58.657 1000.28 Q61.8398 1002.13 63.3994 1004.96 Q64.9272 1007.76 64.9272 1011.71 Q64.9272 1018.17 59.771 1022.24 Q54.6147 1026.28 46.212 1026.28 Q37.8093 1026.28 32.6531 1022.24 Q27.4968 1018.17 27.4968 1011.71 Q27.4968 1007.76 29.0564 1004.96 Q30.5842 1002.13 33.7671 1000.28 M46.212 1020.24 Q52.6732 1020.24 56.3653 1017.59 Q60.0256 1014.92 60.0256 1010.27 Q60.0256 1005.63 56.3653 1002.95 Q52.6732 1000.28 46.212 1000.28 Q39.7508 1000.28 36.0905 1002.95 Q32.3984 1005.63 32.3984 1010.27 Q32.3984 1014.92 36.0905 1017.59 Q39.7508 1020.24 46.212 1020.24 Z\" fill=\"#000000\" fill-rule=\"evenodd\" fill-opacity=\"1\" /><path clip-path=\"url(#clip960)\" d=\"M57.2247 928.984 L44.4614 928.984 L44.4614 939.487 L39.1779 939.487 L39.1779 922.618 L59.58 922.618 Q62.2218 926.342 63.5904 930.83 Q64.9272 935.318 64.9272 940.411 Q64.9272 951.551 58.4342 957.853 Q51.9093 964.123 40.2919 964.123 Q28.6427 964.123 22.1496 957.853 Q15.6248 951.551 15.6248 940.411 Q15.6248 935.764 16.7706 931.594 Q17.9164 927.393 20.1444 923.86 L26.9876 923.86 Q23.9639 927.424 22.4361 931.435 Q20.9083 935.445 20.9083 939.869 Q20.9083 948.59 25.7781 952.983 Q30.6479 957.343 40.2919 957.343 Q49.9041 957.343 54.7739 952.983 Q59.6436 948.59 59.6436 939.869 Q59.6436 936.464 59.0707 933.79 Q58.466 931.117 57.2247 928.984 Z\" fill=\"#000000\" fill-rule=\"evenodd\" fill-opacity=\"1\" /><path clip-path=\"url(#clip960)\" d=\"M14.479 911.128 L14.479 905.272 L64.0042 905.272 L64.0042 911.128 L14.479 911.128 Z\" fill=\"#000000\" fill-rule=\"evenodd\" fill-opacity=\"1\" /><path clip-path=\"url(#clip960)\" d=\"M49.9359 893.623 L28.3562 893.623 L28.3562 887.766 L49.7131 887.766 Q54.7739 887.766 57.3202 885.793 Q59.8346 883.819 59.8346 879.873 Q59.8346 875.13 56.8109 872.393 Q53.7872 869.624 48.5673 869.624 L28.3562 869.624 L28.3562 863.767 L64.0042 863.767 L64.0042 869.624 L58.5296 869.624 Q61.7762 871.756 63.3676 874.589 Q64.9272 877.39 64.9272 881.114 Q64.9272 887.257 61.1078 890.44 Q57.2883 893.623 49.9359 893.623 M27.4968 878.886 L27.4968 878.886 Z\" fill=\"#000000\" fill-rule=\"evenodd\" fill-opacity=\"1\" /><path clip-path=\"url(#clip960)\" d=\"M29.7248 826.051 L35.1993 826.051 Q33.8307 828.533 33.1623 831.048 Q32.4621 833.53 32.4621 836.077 Q32.4621 841.774 36.0905 844.925 Q39.6872 848.076 46.212 848.076 Q52.7369 848.076 56.3653 844.925 Q59.9619 841.774 59.9619 836.077 Q59.9619 833.53 59.2935 831.048 Q58.5933 828.533 57.2247 826.051 L62.6355 826.051 Q63.7814 828.501 64.3543 831.143 Q64.9272 833.753 64.9272 836.713 Q64.9272 844.766 59.8664 849.508 Q54.8057 854.251 46.212 854.251 Q37.491 854.251 32.4939 849.476 Q27.4968 844.67 27.4968 836.331 Q27.4968 833.626 28.0697 831.048 Q28.6108 828.47 29.7248 826.051 Z\" fill=\"#000000\" fill-rule=\"evenodd\" fill-opacity=\"1\" /><path clip-path=\"url(#clip960)\" d=\"M32.4621 802.052 Q32.4621 806.763 36.1542 809.5 Q39.8145 812.237 46.212 812.237 Q52.6095 812.237 56.3017 809.532 Q59.9619 806.794 59.9619 802.052 Q59.9619 797.373 56.2698 794.636 Q52.5777 791.899 46.212 791.899 Q39.8781 791.899 36.186 794.636 Q32.4621 797.373 32.4621 802.052 M27.4968 802.052 Q27.4968 794.413 32.4621 790.053 Q37.4273 785.692 46.212 785.692 Q54.9649 785.692 59.9619 790.053 Q64.9272 794.413 64.9272 802.052 Q64.9272 809.723 59.9619 814.083 Q54.9649 818.412 46.212 818.412 Q37.4273 818.412 32.4621 814.083 Q27.4968 809.723 27.4968 802.052 Z\" fill=\"#000000\" fill-rule=\"evenodd\" fill-opacity=\"1\" /><path clip-path=\"url(#clip960)\" d=\"M29.4065 753.259 L34.9447 753.259 Q33.6716 755.741 33.035 758.415 Q32.3984 761.089 32.3984 763.953 Q32.3984 768.314 33.7352 770.51 Q35.072 772.674 37.7456 772.674 Q39.7826 772.674 40.9603 771.115 Q42.1061 769.555 43.1565 764.844 L43.6021 762.839 Q44.9389 756.601 47.3897 753.991 Q49.8086 751.349 54.1691 751.349 Q59.1344 751.349 62.0308 755.296 Q64.9272 759.211 64.9272 766.086 Q64.9272 768.95 64.3543 772.069 Q63.8132 775.157 62.6992 778.594 L56.6518 778.594 Q58.3387 775.348 59.198 772.197 Q60.0256 769.046 60.0256 765.958 Q60.0256 761.821 58.6251 759.593 Q57.1929 757.365 54.6147 757.365 Q52.2276 757.365 50.9545 758.988 Q49.6813 760.579 48.5037 766.022 L48.0262 768.059 Q46.8804 773.502 44.5251 775.921 Q42.138 778.34 38.0002 778.34 Q32.9713 778.34 30.2341 774.775 Q27.4968 771.21 27.4968 764.653 Q27.4968 761.407 27.9743 758.542 Q28.4517 755.678 29.4065 753.259 Z\" fill=\"#000000\" fill-rule=\"evenodd\" fill-opacity=\"1\" /><path clip-path=\"url(#clip960)\" d=\"M44.7161 711.532 L47.5806 711.532 L47.5806 738.458 Q53.6281 738.077 56.8109 734.83 Q59.9619 731.552 59.9619 725.727 Q59.9619 722.353 59.1344 719.202 Q58.3069 716.019 56.6518 712.9 L62.1899 712.9 Q63.5267 716.051 64.227 719.361 Q64.9272 722.672 64.9272 726.077 Q64.9272 734.607 59.9619 739.604 Q54.9967 744.57 46.5303 744.57 Q37.7774 744.57 32.6531 739.859 Q27.4968 735.116 27.4968 727.096 Q27.4968 719.902 32.1438 715.733 Q36.7589 711.532 44.7161 711.532 M42.9973 717.388 Q38.1912 717.452 35.3266 720.093 Q32.4621 722.703 32.4621 727.032 Q32.4621 731.934 35.2312 734.894 Q38.0002 737.822 43.0292 738.268 L42.9973 717.388 Z\" fill=\"#000000\" fill-rule=\"evenodd\" fill-opacity=\"1\" /><path clip-path=\"url(#clip960)\" d=\"M16.4842 680.944 L16.4842 674.515 L58.5933 674.515 L58.5933 651.376 L64.0042 651.376 L64.0042 680.944 L16.4842 680.944 Z\" fill=\"#000000\" fill-rule=\"evenodd\" fill-opacity=\"1\" /><path clip-path=\"url(#clip960)\" d=\"M44.7161 615.537 L47.5806 615.537 L47.5806 642.464 Q53.6281 642.082 56.8109 638.835 Q59.9619 635.557 59.9619 629.732 Q59.9619 626.358 59.1344 623.207 Q58.3069 620.025 56.6518 616.905 L62.1899 616.905 Q63.5267 620.056 64.227 623.367 Q64.9272 626.677 64.9272 630.082 Q64.9272 638.612 59.9619 643.609 Q54.9967 648.575 46.5303 648.575 Q37.7774 648.575 32.6531 643.864 Q27.4968 639.122 27.4968 631.101 Q27.4968 623.908 32.1438 619.738 Q36.7589 615.537 44.7161 615.537 M42.9973 621.393 Q38.1912 621.457 35.3266 624.099 Q32.4621 626.708 32.4621 631.037 Q32.4621 635.939 35.2312 638.899 Q38.0002 641.827 43.0292 642.273 L42.9973 621.393 Z\" fill=\"#000000\" fill-rule=\"evenodd\" fill-opacity=\"1\" /><path clip-path=\"url(#clip960)\" d=\"M28.3562 610.126 L28.3562 603.919 L58.275 592.779 L28.3562 581.639 L28.3562 575.433 L64.0042 588.801 L64.0042 596.758 L28.3562 610.126 Z\" fill=\"#000000\" fill-rule=\"evenodd\" fill-opacity=\"1\" /><path clip-path=\"url(#clip960)\" d=\"M44.7161 536.857 L47.5806 536.857 L47.5806 563.783 Q53.6281 563.402 56.8109 560.155 Q59.9619 556.877 59.9619 551.052 Q59.9619 547.678 59.1344 544.527 Q58.3069 541.344 56.6518 538.225 L62.1899 538.225 Q63.5267 541.376 64.227 544.686 Q64.9272 547.997 64.9272 551.402 Q64.9272 559.932 59.9619 564.929 Q54.9967 569.895 46.5303 569.895 Q37.7774 569.895 32.6531 565.184 Q27.4968 560.441 27.4968 552.421 Q27.4968 545.227 32.1438 541.058 Q36.7589 536.857 44.7161 536.857 M42.9973 542.713 Q38.1912 542.777 35.3266 545.418 Q32.4621 548.028 32.4621 552.357 Q32.4621 557.259 35.2312 560.219 Q38.0002 563.147 43.0292 563.593 L42.9973 542.713 Z\" fill=\"#000000\" fill-rule=\"evenodd\" fill-opacity=\"1\" /><path clip-path=\"url(#clip960)\" d=\"M14.479 527.244 L14.479 521.388 L64.0042 521.388 L64.0042 527.244 L14.479 527.244 Z\" fill=\"#000000\" fill-rule=\"evenodd\" fill-opacity=\"1\" /><path clip-path=\"url(#clip960)\" d=\"M14.5426 474.345 Q21.8632 478.61 29.0246 480.679 Q36.186 482.748 43.5384 482.748 Q50.8908 482.748 58.1159 480.679 Q65.3091 478.579 72.5979 474.345 L72.5979 479.438 Q65.1182 484.212 57.8931 486.599 Q50.668 488.955 43.5384 488.955 Q36.4406 488.955 29.2474 486.599 Q22.0542 484.244 14.5426 479.438 L14.5426 474.345 Z\" fill=\"#000000\" fill-rule=\"evenodd\" fill-opacity=\"1\" /><path clip-path=\"url(#clip960)\" d=\"M35.1993 435.228 Q31.2526 433.032 29.3747 429.976 Q27.4968 426.921 27.4968 422.783 Q27.4968 417.213 31.4117 414.189 Q35.2948 411.166 42.4881 411.166 L64.0042 411.166 L64.0042 417.054 L42.679 417.054 Q37.5546 417.054 35.072 418.868 Q32.5894 420.682 32.5894 424.406 Q32.5894 428.958 35.6131 431.6 Q38.6368 434.241 43.8567 434.241 L64.0042 434.241 L64.0042 440.13 L42.679 440.13 Q37.5228 440.13 35.072 441.944 Q32.5894 443.758 32.5894 447.546 Q32.5894 452.034 35.6449 454.675 Q38.6686 457.317 43.8567 457.317 L64.0042 457.317 L64.0042 463.205 L28.3562 463.205 L28.3562 457.317 L33.8944 457.317 Q30.616 455.312 29.0564 452.511 Q27.4968 449.71 27.4968 445.859 Q27.4968 441.976 29.4702 439.27 Q31.4436 436.533 35.1993 435.228 Z\" fill=\"#000000\" fill-rule=\"evenodd\" fill-opacity=\"1\" /><path clip-path=\"url(#clip960)\" d=\"M45.7664 376.027 Q39.4007 376.027 35.8996 378.669 Q32.3984 381.279 32.3984 386.021 Q32.3984 390.732 35.8996 393.374 Q39.4007 395.983 45.7664 395.983 Q52.1003 395.983 55.6014 393.374 Q59.1026 390.732 59.1026 386.021 Q59.1026 381.279 55.6014 378.669 Q52.1003 376.027 45.7664 376.027 M59.58 370.171 Q68.683 370.171 73.1071 374.213 Q77.5631 378.255 77.5631 386.594 Q77.5631 389.681 77.0857 392.419 Q76.6401 395.156 75.6852 397.734 L69.9879 397.734 Q71.3884 395.156 72.0568 392.641 Q72.7252 390.127 72.7252 387.517 Q72.7252 381.756 69.7015 378.892 Q66.7096 376.027 60.6303 376.027 L57.7339 376.027 Q60.885 377.841 62.4446 380.674 Q64.0042 383.507 64.0042 387.453 Q64.0042 394.01 59.0071 398.02 Q54.01 402.031 45.7664 402.031 Q37.491 402.031 32.4939 398.02 Q27.4968 394.01 27.4968 387.453 Q27.4968 383.507 29.0564 380.674 Q30.616 377.841 33.7671 376.027 L28.3562 376.027 L28.3562 370.171 L59.58 370.171 Z\" fill=\"#000000\" fill-rule=\"evenodd\" fill-opacity=\"1\" /><path clip-path=\"url(#clip960)\" d=\"M16.4842 347.7 L16.4842 342.289 L70.0516 358.84 L70.0516 364.25 L16.4842 347.7 Z\" fill=\"#000000\" fill-rule=\"evenodd\" fill-opacity=\"1\" /><path clip-path=\"url(#clip960)\" d=\"M14.479 336.146 L14.479 330.289 L64.0042 330.289 L64.0042 336.146 L14.479 336.146 Z\" fill=\"#000000\" fill-rule=\"evenodd\" fill-opacity=\"1\" /><path clip-path=\"url(#clip960)\" d=\"M14.5426 318.958 L14.5426 313.866 Q22.0542 309.092 29.2474 306.736 Q36.4406 304.349 43.5384 304.349 Q50.668 304.349 57.8931 306.736 Q65.1182 309.092 72.5979 313.866 L72.5979 318.958 Q65.3091 314.725 58.1159 312.656 Q50.8908 310.556 43.5384 310.556 Q36.186 310.556 29.0246 312.656 Q21.8632 314.725 14.5426 318.958 Z\" fill=\"#000000\" fill-rule=\"evenodd\" fill-opacity=\"1\" /><polyline clip-path=\"url(#clip962)\" style=\"stroke:#009af9; stroke-linecap:butt; stroke-linejoin:round; stroke-width:4; stroke-opacity:1; fill:none\" points=\"\n",
       "  321.708,1384.24 540.807,86.1857 759.906,460.108 869.456,752.462 979.005,796.934 1198.1,878.457 1709.34,1071.15 1855.4,1122.95 2293.6,1383.18 \n",
       "  \"/>\n",
       "<path clip-path=\"url(#clip960)\" d=\"\n",
       "M1915.77 196.789 L2283.08 196.789 L2283.08 93.1086 L1915.77 93.1086  Z\n",
       "  \" fill=\"#ffffff\" fill-rule=\"evenodd\" fill-opacity=\"1\"/>\n",
       "<polyline clip-path=\"url(#clip960)\" style=\"stroke:#000000; stroke-linecap:butt; stroke-linejoin:round; stroke-width:4; stroke-opacity:1; fill:none\" points=\"\n",
       "  1915.77,196.789 2283.08,196.789 2283.08,93.1086 1915.77,93.1086 1915.77,196.789 \n",
       "  \"/>\n",
       "<polyline clip-path=\"url(#clip960)\" style=\"stroke:#009af9; stroke-linecap:butt; stroke-linejoin:round; stroke-width:4; stroke-opacity:1; fill:none\" points=\"\n",
       "  1938.99,144.949 2078.34,144.949 \n",
       "  \"/>\n",
       "<path clip-path=\"url(#clip960)\" d=\"M2120.48 148.965 Q2120.48 144.335 2118.56 141.789 Q2116.66 139.243 2113.21 139.243 Q2109.78 139.243 2107.86 141.789 Q2105.96 144.335 2105.96 148.965 Q2105.96 153.571 2107.86 156.118 Q2109.78 158.664 2113.21 158.664 Q2116.66 158.664 2118.56 156.118 Q2120.48 153.571 2120.48 148.965 M2124.74 159.011 Q2124.74 165.631 2121.8 168.849 Q2118.86 172.09 2112.79 172.09 Q2110.55 172.09 2108.56 171.742 Q2106.56 171.418 2104.69 170.724 L2104.69 166.58 Q2106.56 167.599 2108.39 168.085 Q2110.22 168.571 2112.12 168.571 Q2116.31 168.571 2118.39 166.372 Q2120.48 164.196 2120.48 159.775 L2120.48 157.668 Q2119.16 159.96 2117.1 161.094 Q2115.04 162.229 2112.17 162.229 Q2107.4 162.229 2104.48 158.594 Q2101.56 154.96 2101.56 148.965 Q2101.56 142.946 2104.48 139.312 Q2107.4 135.678 2112.17 135.678 Q2115.04 135.678 2117.1 136.812 Q2119.16 137.946 2120.48 140.238 L2120.48 136.303 L2124.74 136.303 L2124.74 159.011 Z\" fill=\"#000000\" fill-rule=\"evenodd\" fill-opacity=\"1\" /><path clip-path=\"url(#clip960)\" d=\"M2153.21 170.099 L2153.21 173.409 L2128.58 173.409 L2128.58 170.099 L2153.21 170.099 Z\" fill=\"#000000\" fill-rule=\"evenodd\" fill-opacity=\"1\" /><path clip-path=\"url(#clip960)\" d=\"M2179.39 148.201 L2179.39 150.284 L2159.81 150.284 Q2160.08 154.682 2162.44 156.997 Q2164.83 159.289 2169.06 159.289 Q2171.52 159.289 2173.81 158.687 Q2176.12 158.085 2178.39 156.881 L2178.39 160.909 Q2176.1 161.881 2173.69 162.391 Q2171.29 162.9 2168.81 162.9 Q2162.61 162.9 2158.97 159.289 Q2155.36 155.678 2155.36 149.52 Q2155.36 143.155 2158.79 139.428 Q2162.24 135.678 2168.07 135.678 Q2173.3 135.678 2176.33 139.057 Q2179.39 142.414 2179.39 148.201 M2175.13 146.951 Q2175.08 143.456 2173.16 141.372 Q2171.26 139.289 2168.12 139.289 Q2164.55 139.289 2162.4 141.303 Q2160.27 143.317 2159.94 146.974 L2175.13 146.951 Z\" fill=\"#000000\" fill-rule=\"evenodd\" fill-opacity=\"1\" /><path clip-path=\"url(#clip960)\" d=\"M2207.1 136.303 L2197.72 148.919 L2207.58 162.229 L2202.56 162.229 L2195.01 152.043 L2187.47 162.229 L2182.44 162.229 L2192.51 148.664 L2183.3 136.303 L2188.32 136.303 L2195.2 145.539 L2202.07 136.303 L2207.1 136.303 Z\" fill=\"#000000\" fill-rule=\"evenodd\" fill-opacity=\"1\" /><path clip-path=\"url(#clip960)\" d=\"M2217.72 158.34 L2217.72 172.09 L2213.44 172.09 L2213.44 136.303 L2217.72 136.303 L2217.72 140.238 Q2219.06 137.923 2221.1 136.812 Q2223.16 135.678 2226.01 135.678 Q2230.73 135.678 2233.67 139.428 Q2236.63 143.178 2236.63 149.289 Q2236.63 155.4 2233.67 159.15 Q2230.73 162.9 2226.01 162.9 Q2223.16 162.9 2221.1 161.789 Q2219.06 160.655 2217.72 158.34 M2232.21 149.289 Q2232.21 144.59 2230.27 141.928 Q2228.35 139.243 2224.97 139.243 Q2221.59 139.243 2219.64 141.928 Q2217.72 144.59 2217.72 149.289 Q2217.72 153.988 2219.64 156.673 Q2221.59 159.335 2224.97 159.335 Q2228.35 159.335 2230.27 156.673 Q2232.21 153.988 2232.21 149.289 Z\" fill=\"#000000\" fill-rule=\"evenodd\" fill-opacity=\"1\" /></svg>\n"
      ]
     },
     "execution_count": 60,
     "metadata": {},
     "output_type": "execute_result"
    }
   ],
   "source": [
    "plot(\n",
    "    healthy_individual_glucose_measurements[:, 1], \n",
    "    healthy_individual_glucose_measurements[:, 2],\n",
    "    label = \"g_exp\",\n",
    "    xlabel = \"t\",\n",
    "    ylabel = \"Blood Glucose Level (mg/l)\",\n",
    ")"
   ]
  },
  {
   "cell_type": "code",
   "execution_count": null,
   "id": "f1789f16",
   "metadata": {},
   "outputs": [],
   "source": []
  }
 ],
 "metadata": {
  "kernelspec": {
   "display_name": "Julia 1.7.1",
   "language": "julia",
   "name": "julia-1.7"
  },
  "language_info": {
   "file_extension": ".jl",
   "mimetype": "application/julia",
   "name": "julia",
   "version": "1.7.1"
  }
 },
 "nbformat": 4,
 "nbformat_minor": 5
}
